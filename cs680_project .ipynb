{
  "nbformat": 4,
  "nbformat_minor": 0,
  "metadata": {
    "colab": {
      "name": "cs680_project.ipynb",
      "provenance": []
    },
    "kernelspec": {
      "name": "python3",
      "display_name": "Python 3"
    }
  },
  "cells": [
    {
      "cell_type": "code",
      "metadata": {
        "id": "PLR3ra6tmmSV"
      },
      "source": [
        "import numpy as np\r\n",
        "from google.colab import files\r\n",
        "uploaded = files.upload()\r\n",
        "train_dataset=np.load('mytraindata.npy')\r\n",
        "test_dataset=np.load('mytestdata.npy')"
      ],
      "execution_count": null,
      "outputs": []
    },
    {
      "cell_type": "code",
      "metadata": {
        "id": "XBgCQ0T-qOCI"
      },
      "source": [
        "from sklearn.ensemble import GradientBoostingRegressor\r\n",
        "from sklearn.datasets import make_regression\r\n",
        "from sklearn.ensemble import RandomForestRegressor\r\n",
        "from sklearn.datasets import make_regression\r\n",
        "from sklearn.metrics import mean_squared_error\r\n",
        "from sklearn.model_selection import GridSearchCV\r\n",
        "from sklearn import svm\r\n",
        "from sklearn.svm import SVR\r\n",
        "import numpy as np # linear algebra\r\n",
        "import pandas as pd # data processing, CSV file I/O (e.g. pd.read_csv)\r\n",
        "import csv\r\n",
        "from io import StringIO\r\n",
        "from sklearn import preprocessing\r\n",
        "import shutil\r\n",
        "import os\r\n",
        "from numpy import argmax \r\n",
        "import torch\r\n",
        "import torch.utils.data\r\n",
        "from torch import nn, optim\r\n",
        "from torch.nn import functional as F\r\n",
        "from torchvision import datasets, transforms\r\n",
        "from torchvision.utils import save_image\r\n",
        "from IPython.display import Image, display\r\n",
        "import matplotlib.pyplot as plt\r\n",
        "import os \r\n",
        "import cv2\r\n",
        "import numpy as np\r\n",
        "import matplotlib.pyplot as plt\r\n",
        "import torch\r\n",
        "from torch.autograd import Variable\r\n",
        "from torch.nn import Linear, ReLU, CrossEntropyLoss, Sequential, Conv2d, MaxPool2d, Module, Softmax, BatchNorm2d, Dropout\r\n",
        "from torch.optim import Adam, SGD\r\n",
        "from sklearn.gaussian_process import GaussianProcessRegressor\r\n",
        "from sklearn.gaussian_process.kernels import DotProduct, WhiteKernel,RBF, ConstantKernel\r\n",
        "from sklearn.ensemble import GradientBoostingRegressor\r\n",
        "from sklearn.datasets import make_regression\r\n",
        "from sklearn import linear_model\r\n",
        "from sklearn.metrics import mean_squared_error"
      ],
      "execution_count": 30,
      "outputs": []
    },
    {
      "cell_type": "markdown",
      "metadata": {
        "id": "FDGDgZ3XOn6v"
      },
      "source": [
        "Gradient boost technique\r\n",
        "after running the next  cell, best parameters for Gradient boosting is printed ,we use those parameters in the next cell to make prediction, then we can run the last two cells for getting the required format for kaggle website."
      ]
    },
    {
      "cell_type": "code",
      "metadata": {
        "id": "s4tbIBT4muI5"
      },
      "source": [
        "\r\n",
        "\r\n",
        "# Gradient Boosting\r\n",
        "gradboost = GradientBoostingRegressor(random_state = 1)\r\n",
        "learning_rates = [0.1, 0.5, 0.75,1]\r\n",
        "n_estimators = [1, 2, 4, 8, 16, 32, 64, 100]\r\n",
        "max_depth = [1, 4, 8, 10, 20]\r\n",
        "min_samples_split=[1,3,5,8,10]\r\n",
        "min_samples_leaf=[1,3,7,10]\r\n",
        "max_features=[1,3,6,10]\r\n",
        "hyperF = dict(n_estimators = n_estimators, max_depth = max_depth, min_samples_split=min_samples_split,min_samples_leaf = min_samples_leaf,max_features=max_features,learning_rate=learning_rates)\r\n",
        "gridF = GridSearchCV(gradboost, hyperF, cv = 7, verbose = 1, n_jobs = -1)\r\n",
        "bestF = gridF.fit(train_dataset[:,1:80], train_dataset[:,80])\r\n",
        "best_parameter=bestF.best_estimator_\r\n",
        "print(best_parameter)"
      ],
      "execution_count": null,
      "outputs": []
    },
    {
      "cell_type": "code",
      "metadata": {
        "id": "gwK9MG_jovVV"
      },
      "source": [
        "mygradboost=GradientBoostingRegressor( min_samples_leaf=3,min_samples_split=3,n_estimators=100,max_depth=10,max_features=6,learning_rate=0.1)\r\n",
        "mygradboost.fit(train_dataset[:,1:80],train_dataset[:,80])\r\n",
        "prediction=mygradboost.predict(test_dataset[:,1:80])"
      ],
      "execution_count": 3,
      "outputs": []
    },
    {
      "cell_type": "markdown",
      "metadata": {
        "id": "X_5pn0pRPKOb"
      },
      "source": [
        "Random Forest technique\r\n",
        "after running the next  cell, best parameters for Random Forest are printed ,we use those parameters in the next cell to make prediction, then we can run the last two cells for getting the required format for kaggle website."
      ]
    },
    {
      "cell_type": "code",
      "metadata": {
        "colab": {
          "base_uri": "https://localhost:8080/"
        },
        "id": "193UkEjsqRaO",
        "outputId": "3bd0b977-d702-47e3-816a-89ea61e63cd2"
      },
      "source": [
        "#Random Forest\r\n",
        "forest = RandomForestRegressor(random_state = 1)\r\n",
        "n_estimators = [10,50,90,130,170]\r\n",
        "max_depth = [1,4,8,10,15]\r\n",
        "min_samples_split = [1,2,3,4,5]\r\n",
        "min_samples_leaf = [ 1,2, 5, 7,10] \r\n",
        "hyperF = dict(n_estimators = n_estimators, max_depth = max_depth,  min_samples_split = min_samples_split, min_samples_leaf = min_samples_leaf)\r\n",
        "gridF = GridSearchCV(forest, hyperF, cv = 7, verbose = 1, n_jobs = -1)\r\n",
        "bestF = gridF.fit(train_dataset[:,1:80], train_dataset[:,80])\r\n",
        "best_parameter=bestF.best_estimator_\r\n",
        "print(best_parameter)"
      ],
      "execution_count": null,
      "outputs": [
        {
          "output_type": "stream",
          "text": [
            "Fitting 7 folds for each of 625 candidates, totalling 4375 fits\n"
          ],
          "name": "stdout"
        },
        {
          "output_type": "stream",
          "text": [
            "[Parallel(n_jobs=-1)]: Using backend LokyBackend with 2 concurrent workers.\n",
            "[Parallel(n_jobs=-1)]: Done  74 tasks      | elapsed:    8.6s\n"
          ],
          "name": "stderr"
        }
      ]
    },
    {
      "cell_type": "code",
      "metadata": {
        "id": "2APtw9durNNU"
      },
      "source": [
        "myrandomforrest=RandomForestRegressor( min_samples_leaf=1,min_samples_split=4,n_estimators=50,max_depth=10)\r\n",
        "myrandomforrest.fit(train_dataset[:,1:80],train_dataset[:,80])\r\n",
        "prediction=myrandomforrest.predict(test_dataset[:,1:80])"
      ],
      "execution_count": null,
      "outputs": []
    },
    {
      "cell_type": "markdown",
      "metadata": {
        "id": "rIXuSCI-Pkqd"
      },
      "source": [
        "SVM technique after running the next cell, best parameters for SVM are printed ,we use those parameters in the next cell to make prediction, then we can run the last two cells for getting the required format for kaggle website."
      ]
    },
    {
      "cell_type": "code",
      "metadata": {
        "colab": {
          "base_uri": "https://localhost:8080/"
        },
        "id": "I92vezzcsQBg",
        "outputId": "4083475b-c571-4e3d-ab62-5e748672306c"
      },
      "source": [
        "#SVM\r\n",
        "c=[1,2,3,4,5,6,7,8,9,10]\r\n",
        "ker=['linear', 'rbf','poly']\r\n",
        "parameters = dict(C=c,kernel=ker)\r\n",
        "svc = svm.SVC()\r\n",
        "clf = GridSearchCV(svc, parameters)\r\n",
        "bestF=clf.fit(train_dataset[:,1:80],train_dataset[:,80])\r\n",
        "best_parameters=bestF.best_estimator_\r\n",
        "print(best_parameters)"
      ],
      "execution_count": 40,
      "outputs": [
        {
          "output_type": "stream",
          "text": [
            "/usr/local/lib/python3.6/dist-packages/sklearn/model_selection/_split.py:667: UserWarning: The least populated class in y has only 1 members, which is less than n_splits=5.\n",
            "  % (min_groups, self.n_splits)), UserWarning)\n"
          ],
          "name": "stderr"
        },
        {
          "output_type": "stream",
          "text": [
            "SVC(C=1, break_ties=False, cache_size=200, class_weight=None, coef0=0.0,\n",
            "    decision_function_shape='ovr', degree=3, gamma='scale', kernel='rbf',\n",
            "    max_iter=-1, probability=False, random_state=None, shrinking=True,\n",
            "    tol=0.001, verbose=False)\n"
          ],
          "name": "stdout"
        }
      ]
    },
    {
      "cell_type": "code",
      "metadata": {
        "id": "PmfVVScysf1U"
      },
      "source": [
        "mysvm=SVR()\r\n",
        "mysvm.fit(train_dataset[:,1:80],train_dataset[:,80])\r\n",
        "prediction=mysvm.predict(test_dataset[:,1:80])"
      ],
      "execution_count": null,
      "outputs": []
    },
    {
      "cell_type": "markdown",
      "metadata": {
        "id": "n5KKiIvrP_b8"
      },
      "source": [
        "next 3 cells are for neural network. to change the architecture,change dimensions of layers in next cell"
      ]
    },
    {
      "cell_type": "code",
      "metadata": {
        "id": "CPZTiTCSttMk"
      },
      "source": [
        "#Neural network\r\n",
        "class network(nn.Module):\r\n",
        "    def __init__(self):\r\n",
        "        super(network, self).__init__()\r\n",
        "\r\n",
        "        self.lin = nn.Linear(79, 65536)\r\n",
        "        self.drop=nn.Dropout(p=0.2)\r\n",
        "        self.lin3=nn.Linear(65536,1)\r\n",
        "        \r\n",
        "        \r\n",
        "    def forward(self, x):\r\n",
        "        x=F.relu(self.lin(x))\r\n",
        "        x=self.drop(x)\r\n",
        "        x=(self.lin3(x))      \r\n",
        "        return x"
      ],
      "execution_count": null,
      "outputs": []
    },
    {
      "cell_type": "code",
      "metadata": {
        "id": "efdKo9HXuTgO"
      },
      "source": [
        "criterion = torch.nn.MSELoss\r\n",
        "\r\n",
        "# run on GPU if possible\r\n",
        "cuda = torch.cuda.is_available()\r\n",
        "device = torch.device(\"cuda\" if cuda else \"cpu\")\r\n",
        "batch_size = 256\r\n",
        "model=network().to(device)\r\n",
        "optimizer = optim.Adam(model.parameters(), lr=1e-3)\r\n",
        "\r\n",
        "max_epochs=500\r\n",
        "totalloss=0\r\n",
        "minloss=float('inf')\r\n",
        "\r\n",
        "\r\n",
        "my_loader = torch.utils.data.DataLoader(train_dataset[0:1400,1:80],batch_size)\r\n",
        "mytargetloader=torch.utils.data.DataLoader(train_dataset[0:1400,80],batch_size)\r\n",
        "\r\n",
        "my_loader_test = torch.utils.data.DataLoader(train_dataset[1400:,1:80],batch_size)\r\n",
        "mytargetloader_test=torch.utils.data.DataLoader(train_dataset[1400:,80],batch_size)\r\n",
        "  \r\n",
        "for i in range(max_epochs):\r\n",
        "  if(totalloss<minloss and i>0):\r\n",
        "    torch.save(model, 'best_model.pt')\r\n",
        "    minloss=totalloss\r\n",
        "  \r\n",
        "  totalloss=0\r\n",
        "\r\n",
        "  for idx,(data,target) in enumerate(zip(my_loader,mytargetloader)):\r\n",
        "    data = data.to(device).float()   \r\n",
        "    target=target.to(device).float()\r\n",
        "    optimizer.zero_grad()\r\n",
        "    predicted_batch = model(data)\r\n",
        "\r\n",
        "    loss = criterion()(predicted_batch, target.reshape((-1,1)))\r\n",
        "    loss.backward() \r\n",
        "    optimizer.step()\r\n",
        "  \r\n",
        "  for idx,(datat,targett) in enumerate(zip(my_loader_test,mytargetloader_test)):\r\n",
        "    datat = datat.to(device).float()   \r\n",
        "    targett=targett.to(device).float()\r\n",
        "    predicted_batcht = model(datat)\r\n",
        "    loss2 = criterion()(predicted_batcht, targett.reshape((-1,1)))\r\n",
        "    totalloss+=loss2.item()\r\n",
        "  \r\n",
        "  print(str(i)+\" \"+str(totalloss))\r\n",
        "print(minloss)"
      ],
      "execution_count": null,
      "outputs": []
    },
    {
      "cell_type": "code",
      "metadata": {
        "id": "IlSjEW_3uay2"
      },
      "source": [
        "criterion3 = torch.nn.MSELoss\r\n",
        "# run on GPU if possible\r\n",
        "cuda = torch.cuda.is_available()\r\n",
        "device = torch.device(\"cuda\" if cuda else \"cpu\")\r\n",
        "batch_size = 128\r\n",
        "myfinalmodel = torch.load('best_model.pt')\r\n",
        "myfinalmodel.eval()\r\n",
        "myfinalloader1=torch.utils.data.DataLoader(test_dataset[:,1:80], batch_size)\r\n",
        "final_prediction=np.zeros((len(test_dataset),1))\r\n",
        "j=0\r\n",
        "\r\n",
        "with torch.no_grad(): \r\n",
        "  for idx,(data1f) in enumerate((myfinalloader1)):\r\n",
        "    data1f = data1f.to(device).float()   \r\n",
        "    predicted_batchf = myfinalmodel(data1f)\r\n",
        "    for k in range(len(predicted_batchf)):\r\n",
        "      final_prediction[j][0]=predicted_batchf[k]\r\n",
        "      j+=1\r\n",
        "\r\n",
        "print(final_prediction.shape)\r\n",
        "prediction=final_prediction"
      ],
      "execution_count": null,
      "outputs": []
    },
    {
      "cell_type": "markdown",
      "metadata": {
        "id": "DvBLp-EWQJZj"
      },
      "source": [
        "Gaussian processs, taken from my own submission for assignment 3 where we used identity and polynomial kernels"
      ]
    },
    {
      "cell_type": "code",
      "metadata": {
        "id": "PXlT6CFAuhXU"
      },
      "source": [
        "#Gaussian Process\r\n",
        "def predict_gaussian_process(inputs, posterior):\r\n",
        "\r\n",
        "  mean = np.zeros(inputs.shape[0])\r\n",
        "  variance = np.zeros(inputs.shape[0])\r\n",
        "  mean,variance=posterior(inputs) \r\n",
        "  return mean, variance\r\n",
        "\r\n",
        "def eval_gaussian_process(inputs, posterior, targets):\r\n",
        "  mean_squared_error = 0\r\n",
        "  predicted_mean_values,predicted_variance=predict_gaussian_process(inputs, posterior)\r\n",
        "  diff=predicted_mean_values-targets\r\n",
        "  mean_squared_error =(diff**2).mean(axis=0)\r\n",
        "  return mean_squared_error\r\n",
        "\r\n",
        "\r\n",
        "def train_gaussian_process(train_inputs, train_targets, measurement_variance, kernel, kernel_param):\r\n",
        "  inverse_regularized_gram_matrix = np.zeros((train_inputs.shape[0],train_inputs.shape[0]))\r\n",
        "  K=kernel(train_inputs,train_inputs,kernel_param)\r\n",
        "  I=np.eye(train_inputs.shape[0])\r\n",
        "  inverse_regularized_gram_matrix=np.linalg.inv(K+measurement_variance*I)\r\n",
        "\r\n",
        "  def posterior(inputs, train_inputs=train_inputs, train_targets=train_targets, inverse_regularized_gram_matrix=inverse_regularized_gram_matrix, kernel=kernel):\r\n",
        "\r\n",
        "    mean = np.zeros(inputs.shape[0])\r\n",
        "    mean=(kernel(inputs,train_inputs,kernel_param).dot(inverse_regularized_gram_matrix)).dot(train_targets)\r\n",
        "    variance = np.zeros(inputs.shape[0])\r\n",
        "    variance=kernel(inputs,inputs,kernel_param)+measurement_variance*np.eye(len(inputs))-(kernel(inputs,train_inputs,kernel_param).dot(inverse_regularized_gram_matrix)).dot(kernel(train_inputs,inputs,kernel_param))\r\n",
        "    return mean, variance\r\n",
        "\r\n",
        "  return posterior\r\n",
        "\r\n",
        "def identity_kernel(inputs1,inputs2,dummy_param=None):\r\n",
        "  gram_matrix = np.zeros((inputs1.shape[0],inputs2.shape[0]))\r\n",
        "  gram_matrix=inputs1.dot(inputs2.transpose())\r\n",
        "  return gram_matrix\r\n",
        "\r\n",
        "def polynomial_kernel(inputs1,inputs2,degree):\r\n",
        "  gram_matrix = np.zeros((inputs1.shape[0],inputs2.shape[0]))\r\n",
        "  gram_matrix=((inputs1.dot(inputs2.transpose())+1)**degree)\r\n",
        "  return gram_matrix\r\n",
        "\r\n",
        "\r\n",
        "\r\n",
        "def cross_validation_gaussian_process(k_folds, kernel, hyperparameters, inputs, targets, measurement_variance):\r\n",
        "\r\n",
        "  best_hyperparam = 0\r\n",
        "  best_mean_squared_error = 0\r\n",
        "  mean_squared_errors = np.zeros(len(hyperparameters))\r\n",
        "\r\n",
        "  j=0\r\n",
        "  data_length = len(inputs)\r\n",
        "  interval_length = data_length // k_folds\r\n",
        "  for a in hyperparameters:\r\n",
        "    sum_MSE = 0\r\n",
        "    for i in range(k_folds):\r\n",
        "      start_index = i * interval_length\r\n",
        "      train_inputs = np.concatenate((inputs[0:start_index], inputs[start_index + interval_length:]))\r\n",
        "      train_targets = np.concatenate((targets[0:start_index], targets[start_index + interval_length:]))\r\n",
        "      myposterior=train_gaussian_process(train_inputs, train_targets, measurement_variance, kernel, a)\r\n",
        "      sum_MSE+=eval_gaussian_process(inputs[start_index:start_index+interval_length], myposterior, targets[start_index:start_index+interval_length])\r\n",
        "      \r\n",
        "    mean_squared_errors[j] = (sum_MSE/k_folds)\r\n",
        "    j+=1\r\n",
        "\r\n",
        "  best_mean_squared_error = float(\"inf\")\r\n",
        "  for k in range(len(hyperparameters)):\r\n",
        "    if(best_mean_squared_error>mean_squared_errors[k]):\r\n",
        "      best_mean_squared_error=mean_squared_errors[k]\r\n",
        "      best_hyperparam=hyperparameters[k]\r\n",
        "  return best_hyperparam, best_mean_squared_error, mean_squared_errors"
      ],
      "execution_count": 24,
      "outputs": []
    },
    {
      "cell_type": "code",
      "metadata": {
        "id": "7wzCgHH6yy0J"
      },
      "source": [
        "train_inputs=train_dataset[:,1:80]\r\n",
        "train_targets=train_dataset[:,80]\r\n",
        "test_inputs=test_dataset[:,1:80]\r\n",
        "measurement_variance = 1\r\n",
        "k_folds = 10\r\n",
        "\r\n",
        "# identity kernel\r\n",
        "posterior = train_gaussian_process(train_inputs, train_targets, measurement_variance, identity_kernel, None)\r\n",
        "mean,var=predict_gaussian_process(test_inputs, posterior)\r\n",
        "\r\n",
        "# polynomial kernel\r\n",
        "\r\n",
        "hyperparams = range(1,21)\r\n",
        "best_degree, best_mean_squared_error, mean_squared_errors = cross_validation_gaussian_process(k_folds,polynomial_kernel,hyperparams,train_inputs,train_targets,measurement_variance)\r\n",
        "print('best degree: ' + str (best_degree))\r\n",
        "posterior = train_gaussian_process(train_inputs, train_targets, measurement_variance, polynomial_kernel, best_degree)\r\n",
        "mean,var=predict_gaussian_process(test_inputs, posterior)\r\n",
        "\r\n",
        "\r\n"
      ],
      "execution_count": null,
      "outputs": []
    },
    {
      "cell_type": "code",
      "metadata": {
        "id": "hGTlJSe4LhnL"
      },
      "source": [
        "prediction=mean"
      ],
      "execution_count": null,
      "outputs": []
    },
    {
      "cell_type": "code",
      "metadata": {
        "id": "xL14xIn0J8nO"
      },
      "source": [
        "kernel=ConstantKernel()+DotProduct()\r\n",
        "gpr = GaussianProcessRegressor(kernel=kernel, alpha=5,random_state=0).fit(train_dataset[:,1:80], train_dataset[:,80])\r\n",
        "prediction=gpr.predict(test_dataset[:,1:80])"
      ],
      "execution_count": 27,
      "outputs": []
    },
    {
      "cell_type": "markdown",
      "metadata": {
        "id": "AxXQTuxeQY8O"
      },
      "source": [
        "linear  regression tuning"
      ]
    },
    {
      "cell_type": "code",
      "metadata": {
        "colab": {
          "base_uri": "https://localhost:8080/",
          "height": 324
        },
        "id": "EZdNoc7g5S9V",
        "outputId": "a8f109df-efcd-45d9-abde-587b4401d3a8"
      },
      "source": [
        "#linear regression\r\n",
        "\r\n",
        "list_mse=[]\r\n",
        "bestb=1\r\n",
        "bestmse=float('inf')\r\n",
        "for b in range(1,200):\r\n",
        " reg = linear_model.Ridge(alpha=b)\r\n",
        " reg.fit(train_dataset[0:1000,1:80],train_dataset[0:1000,80])\r\n",
        " predict=reg.predict(train_dataset[1000:,1:80])\r\n",
        " mse=mean_squared_error(train_dataset[1000:,80],predict)\r\n",
        " list_mse.append(mse)\r\n",
        " if(mse<bestmse):\r\n",
        "   bestmse=mse\r\n",
        "   bestb=b\r\n",
        "print(bestb)\r\n",
        "def plot_linear_regression_mean_squared_errors(mean_squared_errors,hyperparams):\r\n",
        "  plt.plot(hyperparams,mean_squared_errors)\r\n",
        "  plt.ylabel('mean squared error')\r\n",
        "  plt.xlabel('lambda')\r\n",
        "  plt.show()\r\n",
        "hyperparams=range(1,200)\r\n",
        "print(hyperparams)\r\n",
        "import matplotlib.pyplot as plt\r\n",
        "plot_linear_regression_mean_squared_errors(list_mse,hyperparams)\r\n",
        "\r\n",
        "reg = linear_model.Ridge(alpha=bestb)\r\n",
        "reg.fit(train_dataset[:,1:80],train_dataset[:,80])\r\n",
        "weights=reg.coef_\r\n",
        "prediction=reg.predict(test_dataset[:,1:80])"
      ],
      "execution_count": 36,
      "outputs": [
        {
          "output_type": "stream",
          "text": [
            "111\n",
            "range(1, 200)\n"
          ],
          "name": "stdout"
        },
        {
          "output_type": "display_data",
          "data": {
            "image/png": "[encoded data removed]",
            "text/plain": [
              "<Figure size 432x288 with 1 Axes>"
            ]
          },
          "metadata": {
            "tags": [],
            "needs_background": "light"
          }
        }
      ]
    },
    {
      "cell_type": "markdown",
      "metadata": {
        "id": "90RfKv8JQdBY"
      },
      "source": [
        "regardless of used model for prediction, the next two cells provide prediction in desired format of kaggle website"
      ]
    },
    {
      "cell_type": "code",
      "metadata": {
        "id": "9qs5-wTOrVwg"
      },
      "source": [
        "import csv\r\n",
        "with open('prediction.csv', 'w', newline='') as file:\r\n",
        "    writer = csv.writer(file)\r\n",
        "    writer.writerow(['Id', 'SalePrice'])\r\n",
        "    for i in range(len(test_dataset)):\r\n",
        "      writer.writerow([test_dataset[i][0].astype(int),prediction[i]])"
      ],
      "execution_count": 28,
      "outputs": []
    },
    {
      "cell_type": "code",
      "metadata": {
        "colab": {
          "base_uri": "https://localhost:8080/",
          "height": 17
        },
        "id": "ug206l0Oo3qH",
        "outputId": "956a57c3-abcd-43cc-bb75-e4059312dc33"
      },
      "source": [
        "from google.colab import files\r\n",
        "files.download(\"prediction.csv\")"
      ],
      "execution_count": 29,
      "outputs": [
        {
          "output_type": "display_data",
          "data": {
            "application/javascript": [
              "\n",
              "    async function download(id, filename, size) {\n",
              "      if (!google.colab.kernel.accessAllowed) {\n",
              "        return;\n",
              "      }\n",
              "      const div = document.createElement('div');\n",
              "      const label = document.createElement('label');\n",
              "      label.textContent = `Downloading \"${filename}\": `;\n",
              "      div.appendChild(label);\n",
              "      const progress = document.createElement('progress');\n",
              "      progress.max = size;\n",
              "      div.appendChild(progress);\n",
              "      document.body.appendChild(div);\n",
              "\n",
              "      const buffers = [];\n",
              "      let downloaded = 0;\n",
              "\n",
              "      const channel = await google.colab.kernel.comms.open(id);\n",
              "      // Send a message to notify the kernel that we're ready.\n",
              "      channel.send({})\n",
              "\n",
              "      for await (const message of channel.messages) {\n",
              "        // Send a message to notify the kernel that we're ready.\n",
              "        channel.send({})\n",
              "        if (message.buffers) {\n",
              "          for (const buffer of message.buffers) {\n",
              "            buffers.push(buffer);\n",
              "            downloaded += buffer.byteLength;\n",
              "            progress.value = downloaded;\n",
              "          }\n",
              "        }\n",
              "      }\n",
              "      const blob = new Blob(buffers, {type: 'application/binary'});\n",
              "      const a = document.createElement('a');\n",
              "      a.href = window.URL.createObjectURL(blob);\n",
              "      a.download = filename;\n",
              "      div.appendChild(a);\n",
              "      a.click();\n",
              "      div.remove();\n",
              "    }\n",
              "  "
            ],
            "text/plain": [
              "<IPython.core.display.Javascript object>"
            ]
          },
          "metadata": {
            "tags": []
          }
        },
        {
          "output_type": "display_data",
          "data": {
            "application/javascript": [
              "download(\"download_b684990b-aa5f-49d8-8a11-440fb36f4905\", \"prediction.csv\", 22457)"
            ],
            "text/plain": [
              "<IPython.core.display.Javascript object>"
            ]
          },
          "metadata": {
            "tags": []
          }
        }
      ]
    }
  ]
}